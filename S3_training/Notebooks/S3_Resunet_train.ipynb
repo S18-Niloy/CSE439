{
 "cells": [
  {
   "cell_type": "markdown",
   "metadata": {},
   "source": [
    "# This script \n",
    "=> loads preprocessed training data \n",
    "\n",
    "=> splits it into training and validation sets \n",
    "\n",
    "=> compiles ResUnet model using the Adam optimizer with a binary cross-entropy loss function \n",
    "\n",
    "=> trains each model for a specified number of epochs \n",
    "\n",
    "=> ModelCheckpoint callbacks are used to save the best-performing models based on validation accuracy during training"
   ]
  },
  {
   "cell_type": "code",
   "execution_count": 23,
   "metadata": {},
   "outputs": [],
   "source": [
    "import numpy as np\n",
    "import tensorflow as tf\n",
    "from tensorflow.keras.callbacks import ModelCheckpoint, EarlyStopping\n",
    "from tensorflow.keras.optimizers import Adam\n",
    "from tensorflow.keras.losses import SparseCategoricalCrossentropy\n",
    "from tensorflow.keras.metrics import MeanIoU\n",
    "from keras.models import load_model\n",
    "import matplotlib.pyplot as plt"
   ]
  },
  {
   "cell_type": "markdown",
   "metadata": {},
   "source": [
    "# Load preprocessed data"
   ]
  },
  {
   "cell_type": "code",
   "execution_count": 24,
   "metadata": {},
   "outputs": [],
   "source": [
    "X_train = np.load(r'path\\X_train.npy')\n",
    "y_train = np.load(r'path\\y_train.npy')\n",
    "X_val = np.load(r'path\\X_val.npy')\n",
    "y_val = np.load(r'path\\y_val.npy')\n",
    "X_test = np.load(r'path\\X_test.npy')\n",
    "y_test = np.load(r'path\\y_test.npy')"
   ]
  },
  {
   "cell_type": "markdown",
   "metadata": {},
   "source": [
    "# Load or define the Resnet model"
   ]
  },
  {
   "cell_type": "code",
   "execution_count": 25,
   "metadata": {},
   "outputs": [],
   "source": [
    "model = load_model(r'path\\S2_Model\\resunet.keras')"
   ]
  },
  {
   "cell_type": "markdown",
   "metadata": {},
   "source": [
    "# Compile the model"
   ]
  },
  {
   "cell_type": "code",
   "execution_count": 26,
   "metadata": {},
   "outputs": [],
   "source": [
    "model.compile(optimizer=Adam(learning_rate=1e-4), loss='binary_crossentropy', metrics=['accuracy'])"
   ]
  },
  {
   "cell_type": "markdown",
   "metadata": {},
   "source": [
    "# Define callbacks"
   ]
  },
  {
   "cell_type": "code",
   "execution_count": 27,
   "metadata": {},
   "outputs": [],
   "source": [
    "checkpoint = ModelCheckpoint(r'path\\resunet_trained_model.keras', monitor='val_loss', verbose=1, save_best_only=True, mode='min')\n",
    "early_stop = EarlyStopping(monitor='val_loss', patience=5, verbose=1, mode='min', restore_best_weights=True)"
   ]
  },
  {
   "cell_type": "markdown",
   "metadata": {},
   "source": [
    "# Train the model"
   ]
  },
  {
   "cell_type": "code",
   "execution_count": 28,
   "metadata": {},
   "outputs": [
    {
     "name": "stdout",
     "output_type": "stream",
     "text": [
      "Epoch 1/20\n",
      "\u001b[1m4/4\u001b[0m \u001b[32m━━━━━━━━━━━━━━━━━━━━\u001b[0m\u001b[37m\u001b[0m \u001b[1m0s\u001b[0m 4s/step - accuracy: 0.5172 - loss: 0.6833\n",
      "Epoch 1: val_loss improved from inf to 0.69121, saving model to C:\\Users\\20301207\\Downloads\\Project_CSE439-Machine_Vision-_BRACU-main\\S3_training\\resunet_trained_model.keras\n",
      "\u001b[1m4/4\u001b[0m \u001b[32m━━━━━━━━━━━━━━━━━━━━\u001b[0m\u001b[37m\u001b[0m \u001b[1m20s\u001b[0m 4s/step - accuracy: 0.5120 - loss: 0.6830 - val_accuracy: 0.3651 - val_loss: 0.6912\n",
      "Epoch 2/20\n",
      "\u001b[1m4/4\u001b[0m \u001b[32m━━━━━━━━━━━━━━━━━━━━\u001b[0m\u001b[37m\u001b[0m \u001b[1m0s\u001b[0m 4s/step - accuracy: 0.4596 - loss: 0.6662\n",
      "Epoch 2: val_loss improved from 0.69121 to 0.68836, saving model to C:\\Users\\20301207\\Downloads\\Project_CSE439-Machine_Vision-_BRACU-main\\S3_training\\resunet_trained_model.keras\n",
      "\u001b[1m4/4\u001b[0m \u001b[32m━━━━━━━━━━━━━━━━━━━━\u001b[0m\u001b[37m\u001b[0m \u001b[1m17s\u001b[0m 4s/step - accuracy: 0.4642 - loss: 0.6655 - val_accuracy: 0.4073 - val_loss: 0.6884\n",
      "Epoch 3/20\n",
      "\u001b[1m4/4\u001b[0m \u001b[32m━━━━━━━━━━━━━━━━━━━━\u001b[0m\u001b[37m\u001b[0m \u001b[1m0s\u001b[0m 3s/step - accuracy: 0.5317 - loss: 0.6478\n",
      "Epoch 3: val_loss improved from 0.68836 to 0.67618, saving model to C:\\Users\\20301207\\Downloads\\Project_CSE439-Machine_Vision-_BRACU-main\\S3_training\\resunet_trained_model.keras\n",
      "\u001b[1m4/4\u001b[0m \u001b[32m━━━━━━━━━━━━━━━━━━━━\u001b[0m\u001b[37m\u001b[0m \u001b[1m17s\u001b[0m 4s/step - accuracy: 0.5315 - loss: 0.6478 - val_accuracy: 0.5209 - val_loss: 0.6762\n",
      "Epoch 4/20\n",
      "\u001b[1m4/4\u001b[0m \u001b[32m━━━━━━━━━━━━━━━━━━━━\u001b[0m\u001b[37m\u001b[0m \u001b[1m0s\u001b[0m 3s/step - accuracy: 0.6564 - loss: 0.6257\n",
      "Epoch 4: val_loss improved from 0.67618 to 0.63635, saving model to C:\\Users\\20301207\\Downloads\\Project_CSE439-Machine_Vision-_BRACU-main\\S3_training\\resunet_trained_model.keras\n",
      "\u001b[1m4/4\u001b[0m \u001b[32m━━━━━━━━━━━━━━━━━━━━\u001b[0m\u001b[37m\u001b[0m \u001b[1m17s\u001b[0m 4s/step - accuracy: 0.6584 - loss: 0.6254 - val_accuracy: 0.7423 - val_loss: 0.6364\n",
      "Epoch 5/20\n",
      "\u001b[1m4/4\u001b[0m \u001b[32m━━━━━━━━━━━━━━━━━━━━\u001b[0m\u001b[37m\u001b[0m \u001b[1m0s\u001b[0m 4s/step - accuracy: 0.8259 - loss: 0.5822\n",
      "Epoch 5: val_loss improved from 0.63635 to 0.57467, saving model to C:\\Users\\20301207\\Downloads\\Project_CSE439-Machine_Vision-_BRACU-main\\S3_training\\resunet_trained_model.keras\n",
      "\u001b[1m4/4\u001b[0m \u001b[32m━━━━━━━━━━━━━━━━━━━━\u001b[0m\u001b[37m\u001b[0m \u001b[1m17s\u001b[0m 4s/step - accuracy: 0.8247 - loss: 0.5810 - val_accuracy: 0.7697 - val_loss: 0.5747\n",
      "Epoch 6/20\n",
      "\u001b[1m4/4\u001b[0m \u001b[32m━━━━━━━━━━━━━━━━━━━━\u001b[0m\u001b[37m\u001b[0m \u001b[1m0s\u001b[0m 4s/step - accuracy: 0.8178 - loss: 0.5183\n",
      "Epoch 6: val_loss did not improve from 0.57467\n",
      "\u001b[1m4/4\u001b[0m \u001b[32m━━━━━━━━━━━━━━━━━━━━\u001b[0m\u001b[37m\u001b[0m \u001b[1m16s\u001b[0m 4s/step - accuracy: 0.8195 - loss: 0.5143 - val_accuracy: 0.7596 - val_loss: 0.8047\n",
      "Epoch 7/20\n",
      "\u001b[1m4/4\u001b[0m \u001b[32m━━━━━━━━━━━━━━━━━━━━\u001b[0m\u001b[37m\u001b[0m \u001b[1m0s\u001b[0m 4s/step - accuracy: 0.7454 - loss: 0.6686\n",
      "Epoch 7: val_loss did not improve from 0.57467\n",
      "\u001b[1m4/4\u001b[0m \u001b[32m━━━━━━━━━━━━━━━━━━━━\u001b[0m\u001b[37m\u001b[0m \u001b[1m16s\u001b[0m 4s/step - accuracy: 0.7431 - loss: 0.6580 - val_accuracy: 0.5216 - val_loss: 0.7533\n",
      "Epoch 8/20\n",
      "\u001b[1m4/4\u001b[0m \u001b[32m━━━━━━━━━━━━━━━━━━━━\u001b[0m\u001b[37m\u001b[0m \u001b[1m0s\u001b[0m 4s/step - accuracy: 0.6127 - loss: 0.6468\n",
      "Epoch 8: val_loss did not improve from 0.57467\n",
      "\u001b[1m4/4\u001b[0m \u001b[32m━━━━━━━━━━━━━━━━━━━━\u001b[0m\u001b[37m\u001b[0m \u001b[1m16s\u001b[0m 4s/step - accuracy: 0.6128 - loss: 0.6467 - val_accuracy: 0.5696 - val_loss: 0.6870\n",
      "Epoch 9/20\n",
      "\u001b[1m4/4\u001b[0m \u001b[32m━━━━━━━━━━━━━━━━━━━━\u001b[0m\u001b[37m\u001b[0m \u001b[1m0s\u001b[0m 4s/step - accuracy: 0.7009 - loss: 0.5760\n",
      "Epoch 9: val_loss improved from 0.57467 to 0.54927, saving model to C:\\Users\\20301207\\Downloads\\Project_CSE439-Machine_Vision-_BRACU-main\\S3_training\\resunet_trained_model.keras\n",
      "\u001b[1m4/4\u001b[0m \u001b[32m━━━━━━━━━━━━━━━━━━━━\u001b[0m\u001b[37m\u001b[0m \u001b[1m17s\u001b[0m 4s/step - accuracy: 0.7075 - loss: 0.5715 - val_accuracy: 0.7781 - val_loss: 0.5493\n",
      "Epoch 10/20\n",
      "\u001b[1m4/4\u001b[0m \u001b[32m━━━━━━━━━━━━━━━━━━━━\u001b[0m\u001b[37m\u001b[0m \u001b[1m0s\u001b[0m 4s/step - accuracy: 0.8055 - loss: 0.5125\n",
      "Epoch 10: val_loss improved from 0.54927 to 0.53336, saving model to C:\\Users\\20301207\\Downloads\\Project_CSE439-Machine_Vision-_BRACU-main\\S3_training\\resunet_trained_model.keras\n",
      "\u001b[1m4/4\u001b[0m \u001b[32m━━━━━━━━━━━━━━━━━━━━\u001b[0m\u001b[37m\u001b[0m \u001b[1m17s\u001b[0m 4s/step - accuracy: 0.8038 - loss: 0.5131 - val_accuracy: 0.7833 - val_loss: 0.5334\n",
      "Epoch 11/20\n",
      "\u001b[1m4/4\u001b[0m \u001b[32m━━━━━━━━━━━━━━━━━━━━\u001b[0m\u001b[37m\u001b[0m \u001b[1m0s\u001b[0m 4s/step - accuracy: 0.8468 - loss: 0.4627\n",
      "Epoch 11: val_loss improved from 0.53336 to 0.52870, saving model to C:\\Users\\20301207\\Downloads\\Project_CSE439-Machine_Vision-_BRACU-main\\S3_training\\resunet_trained_model.keras\n",
      "\u001b[1m4/4\u001b[0m \u001b[32m━━━━━━━━━━━━━━━━━━━━\u001b[0m\u001b[37m\u001b[0m \u001b[1m17s\u001b[0m 4s/step - accuracy: 0.8445 - loss: 0.4648 - val_accuracy: 0.7741 - val_loss: 0.5287\n",
      "Epoch 12/20\n",
      "\u001b[1m4/4\u001b[0m \u001b[32m━━━━━━━━━━━━━━━━━━━━\u001b[0m\u001b[37m\u001b[0m \u001b[1m0s\u001b[0m 4s/step - accuracy: 0.8372 - loss: 0.4520\n",
      "Epoch 12: val_loss did not improve from 0.52870\n",
      "\u001b[1m4/4\u001b[0m \u001b[32m━━━━━━━━━━━━━━━━━━━━\u001b[0m\u001b[37m\u001b[0m \u001b[1m16s\u001b[0m 4s/step - accuracy: 0.8366 - loss: 0.4526 - val_accuracy: 0.7788 - val_loss: 0.5427\n",
      "Epoch 13/20\n",
      "\u001b[1m4/4\u001b[0m \u001b[32m━━━━━━━━━━━━━━━━━━━━\u001b[0m\u001b[37m\u001b[0m \u001b[1m0s\u001b[0m 4s/step - accuracy: 0.8428 - loss: 0.4287\n",
      "Epoch 13: val_loss improved from 0.52870 to 0.51613, saving model to C:\\Users\\20301207\\Downloads\\Project_CSE439-Machine_Vision-_BRACU-main\\S3_training\\resunet_trained_model.keras\n",
      "\u001b[1m4/4\u001b[0m \u001b[32m━━━━━━━━━━━━━━━━━━━━\u001b[0m\u001b[37m\u001b[0m \u001b[1m17s\u001b[0m 4s/step - accuracy: 0.8415 - loss: 0.4303 - val_accuracy: 0.7669 - val_loss: 0.5161\n",
      "Epoch 14/20\n",
      "\u001b[1m4/4\u001b[0m \u001b[32m━━━━━━━━━━━━━━━━━━━━\u001b[0m\u001b[37m\u001b[0m \u001b[1m0s\u001b[0m 4s/step - accuracy: 0.8224 - loss: 0.4370\n",
      "Epoch 14: val_loss improved from 0.51613 to 0.50441, saving model to C:\\Users\\20301207\\Downloads\\Project_CSE439-Machine_Vision-_BRACU-main\\S3_training\\resunet_trained_model.keras\n",
      "\u001b[1m4/4\u001b[0m \u001b[32m━━━━━━━━━━━━━━━━━━━━\u001b[0m\u001b[37m\u001b[0m \u001b[1m17s\u001b[0m 4s/step - accuracy: 0.8215 - loss: 0.4377 - val_accuracy: 0.7746 - val_loss: 0.5044\n",
      "Epoch 15/20\n",
      "\u001b[1m4/4\u001b[0m \u001b[32m━━━━━━━━━━━━━━━━━━━━\u001b[0m\u001b[37m\u001b[0m \u001b[1m0s\u001b[0m 4s/step - accuracy: 0.8238 - loss: 0.4305\n",
      "Epoch 15: val_loss did not improve from 0.50441\n",
      "\u001b[1m4/4\u001b[0m \u001b[32m━━━━━━━━━━━━━━━━━━━━\u001b[0m\u001b[37m\u001b[0m \u001b[1m16s\u001b[0m 4s/step - accuracy: 0.8257 - loss: 0.4273 - val_accuracy: 0.7883 - val_loss: 0.5373\n",
      "Epoch 16/20\n",
      "\u001b[1m4/4\u001b[0m \u001b[32m━━━━━━━━━━━━━━━━━━━━\u001b[0m\u001b[37m\u001b[0m \u001b[1m0s\u001b[0m 4s/step - accuracy: 0.8365 - loss: 0.4196\n",
      "Epoch 16: val_loss improved from 0.50441 to 0.47854, saving model to C:\\Users\\20301207\\Downloads\\Project_CSE439-Machine_Vision-_BRACU-main\\S3_training\\resunet_trained_model.keras\n",
      "\u001b[1m4/4\u001b[0m \u001b[32m━━━━━━━━━━━━━━━━━━━━\u001b[0m\u001b[37m\u001b[0m \u001b[1m17s\u001b[0m 4s/step - accuracy: 0.8373 - loss: 0.4173 - val_accuracy: 0.7858 - val_loss: 0.4785\n",
      "Epoch 17/20\n",
      "\u001b[1m4/4\u001b[0m \u001b[32m━━━━━━━━━━━━━━━━━━━━\u001b[0m\u001b[37m\u001b[0m \u001b[1m0s\u001b[0m 4s/step - accuracy: 0.8428 - loss: 0.3868\n",
      "Epoch 17: val_loss did not improve from 0.47854\n",
      "\u001b[1m4/4\u001b[0m \u001b[32m━━━━━━━━━━━━━━━━━━━━\u001b[0m\u001b[37m\u001b[0m \u001b[1m16s\u001b[0m 4s/step - accuracy: 0.8425 - loss: 0.3878 - val_accuracy: 0.7937 - val_loss: 0.4797\n",
      "Epoch 18/20\n",
      "\u001b[1m4/4\u001b[0m \u001b[32m━━━━━━━━━━━━━━━━━━━━\u001b[0m\u001b[37m\u001b[0m \u001b[1m0s\u001b[0m 4s/step - accuracy: 0.8266 - loss: 0.4145\n",
      "Epoch 18: val_loss improved from 0.47854 to 0.46500, saving model to C:\\Users\\20301207\\Downloads\\Project_CSE439-Machine_Vision-_BRACU-main\\S3_training\\resunet_trained_model.keras\n",
      "\u001b[1m4/4\u001b[0m \u001b[32m━━━━━━━━━━━━━━━━━━━━\u001b[0m\u001b[37m\u001b[0m \u001b[1m18s\u001b[0m 4s/step - accuracy: 0.8299 - loss: 0.4090 - val_accuracy: 0.7921 - val_loss: 0.4650\n",
      "Epoch 19/20\n",
      "\u001b[1m4/4\u001b[0m \u001b[32m━━━━━━━━━━━━━━━━━━━━\u001b[0m\u001b[37m\u001b[0m \u001b[1m0s\u001b[0m 4s/step - accuracy: 0.8422 - loss: 0.3837\n",
      "Epoch 19: val_loss did not improve from 0.46500\n",
      "\u001b[1m4/4\u001b[0m \u001b[32m━━━━━━━━━━━━━━━━━━━━\u001b[0m\u001b[37m\u001b[0m \u001b[1m16s\u001b[0m 4s/step - accuracy: 0.8428 - loss: 0.3824 - val_accuracy: 0.7958 - val_loss: 0.4702\n",
      "Epoch 20/20\n",
      "\u001b[1m4/4\u001b[0m \u001b[32m━━━━━━━━━━━━━━━━━━━━\u001b[0m\u001b[37m\u001b[0m \u001b[1m0s\u001b[0m 4s/step - accuracy: 0.8416 - loss: 0.3794\n",
      "Epoch 20: val_loss improved from 0.46500 to 0.45966, saving model to C:\\Users\\20301207\\Downloads\\Project_CSE439-Machine_Vision-_BRACU-main\\S3_training\\resunet_trained_model.keras\n",
      "\u001b[1m4/4\u001b[0m \u001b[32m━━━━━━━━━━━━━━━━━━━━\u001b[0m\u001b[37m\u001b[0m \u001b[1m18s\u001b[0m 4s/step - accuracy: 0.8424 - loss: 0.3792 - val_accuracy: 0.7942 - val_loss: 0.4597\n",
      "Restoring model weights from the end of the best epoch: 20.\n"
     ]
    }
   ],
   "source": [
    "history = model.fit(X_train, y_train, batch_size=16, epochs=20, \n",
    "                    validation_data=(X_val, y_val), callbacks=[checkpoint, early_stop])\n"
   ]
  },
  {
   "cell_type": "markdown",
   "metadata": {},
   "source": [
    "# Get training and validation loss from the history object"
   ]
  },
  {
   "cell_type": "code",
   "execution_count": 29,
   "metadata": {},
   "outputs": [],
   "source": [
    "train_loss = history.history['loss']\n",
    "val_loss = history.history['val_loss']"
   ]
  },
  {
   "cell_type": "markdown",
   "metadata": {},
   "source": [
    "# Plot the training and validation loss"
   ]
  },
  {
   "cell_type": "code",
   "execution_count": 30,
   "metadata": {},
   "outputs": [
    {
     "data": {
      "text/plain": [
       "[<matplotlib.lines.Line2D at 0x2351738a880>]"
      ]
     },
     "execution_count": 30,
     "metadata": {},
     "output_type": "execute_result"
    },
    {
     "data": {
      "image/png": "[encoded data removed]",
      "text/plain": [
       "<Figure size 640x480 with 1 Axes>"
      ]
     },
     "metadata": {},
     "output_type": "display_data"
    }
   ],
   "source": [
    "plt.plot(range(1, len(train_loss) + 1), train_loss, label='Training Loss')\n",
    "plt.plot(range(1, len(val_loss) + 1), val_loss, label='Validation Loss')"
   ]
  }
 ],
 "metadata": {
  "kernelspec": {
   "display_name": "Python 3",
   "language": "python",
   "name": "python3"
  },
  "language_info": {
   "codemirror_mode": {
    "name": "ipython",
    "version": 3
   },
   "file_extension": ".py",
   "mimetype": "text/x-python",
   "name": "python",
   "nbconvert_exporter": "python",
   "pygments_lexer": "ipython3",
   "version": "3.9.13"
  }
 },
 "nbformat": 4,
 "nbformat_minor": 2
}
