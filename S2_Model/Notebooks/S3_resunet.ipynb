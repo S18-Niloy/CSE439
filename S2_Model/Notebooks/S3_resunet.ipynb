{
 "cells": [
  {
   "cell_type": "markdown",
   "metadata": {},
   "source": [
    "Sure, here's a brief overview of the ResUNet architecture:\n",
    "\n",
    "1. **Encoder (Residual Blocks):**\n",
    "   - The encoder consists of several layers of convolutional blocks, each followed by a max-pooling layer.\n",
    "   - Each convolutional block contains two convolutional layers with batch normalization and ReLU activation, followed by a skip connection to preserve spatial information.\n",
    "   - The skip connection adds the input of the block to the output of the second convolutional layer, ensuring that the gradients flow properly during training.\n",
    "\n",
    "2. **Bridge:**\n",
    "   - After several downsampling steps, a bridge connects the encoder to the decoder.\n",
    "   - It typically consists of another convolutional block without downsampling, preserving the spatial resolution.\n",
    "\n",
    "3. **Decoder (Upsampling Blocks):**\n",
    "   - The decoder is responsible for upsampling the feature maps back to the original input resolution.\n",
    "   - Each upsampling block typically consists of a transposed convolutional layer (or upsampling followed by convolution), followed by a concatenation with the corresponding feature map from the encoder via skip connections.\n",
    "   - This process allows the decoder to recover spatial details lost during downsampling.\n",
    "\n",
    "4. **Output Layer:**\n",
    "   - The final layer of the network is a convolutional layer with sigmoid activation for binary classification tasks (such as in your case with two classes: vegetation and non-vegetation).\n",
    "   - For multi-class segmentation tasks, the output layer would typically have softmax activation."
   ]
  },
  {
   "cell_type": "code",
   "execution_count": 21,
   "metadata": {},
   "outputs": [],
   "source": [
    "import tensorflow as tf\n",
    "from tensorflow.keras.models import Model\n",
    "from tensorflow.keras.layers import Input, Conv2D, MaxPooling2D, UpSampling2D, concatenate, Conv2DTranspose, Dropout"
   ]
  },
  {
   "cell_type": "code",
   "execution_count": 22,
   "metadata": {},
   "outputs": [],
   "source": [
    "\n",
    "def resunet(input_shape=(256, 256, 3), num_classes=1):\n",
    "    inputs = Input(input_shape)\n",
    "    \n",
    "    # Encoder\n",
    "    conv1 = resblock(inputs, 64)\n",
    "    pool1 = MaxPooling2D(pool_size=(2, 2))(conv1)\n",
    "    \n",
    "    conv2 = resblock(pool1, 128)\n",
    "    pool2 = MaxPooling2D(pool_size=(2, 2))(conv2)\n",
    "    \n",
    "    conv3 = resblock(pool2, 256)\n",
    "    pool3 = MaxPooling2D(pool_size=(2, 2))(conv3)\n",
    "    \n",
    "    conv4 = resblock(pool3, 512)\n",
    "    pool4 = MaxPooling2D(pool_size=(2, 2))(conv4)\n",
    "    \n",
    "    # Bridge\n",
    "    conv5 = resblock(pool4, 1024)\n",
    "    \n",
    "    # Decoder\n",
    "    upconv6 = Conv2DTranspose(512, (2, 2), strides=(2, 2), padding='same')(conv5)\n",
    "    skip_connection4 = conv4\n",
    "    upconv6 = concatenate([upconv6, skip_connection4], axis=-1)\n",
    "    conv6 = resblock(upconv6, 512)\n",
    "    \n",
    "    upconv7 = Conv2DTranspose(256, (2, 2), strides=(2, 2), padding='same')(conv6)\n",
    "    skip_connection3 = conv3\n",
    "    upconv7 = concatenate([upconv7, skip_connection3], axis=-1)\n",
    "    conv7 = resblock(upconv7, 256)\n",
    "    \n",
    "    upconv8 = Conv2DTranspose(128, (2, 2), strides=(2, 2), padding='same')(conv7)\n",
    "    skip_connection2 = conv2\n",
    "    upconv8 = concatenate([upconv8, skip_connection2], axis=-1)\n",
    "    conv8 = resblock(upconv8, 128)\n",
    "    \n",
    "    upconv9 = Conv2DTranspose(64, (2, 2), strides=(2, 2), padding='same')(conv8)\n",
    "    skip_connection1 = conv1\n",
    "    upconv9 = concatenate([upconv9, skip_connection1], axis=-1)\n",
    "    conv9 = resblock(upconv9, 64)\n",
    "    \n",
    "    # Output layer\n",
    "    outputs = Conv2D(num_classes, (1, 1), activation='sigmoid')(conv9)\n",
    "    \n",
    "    # Create model\n",
    "    model = Model(inputs=inputs, outputs=outputs)\n",
    "    \n",
    "    return model"
   ]
  },
  {
   "cell_type": "code",
   "execution_count": 23,
   "metadata": {},
   "outputs": [],
   "source": [
    "def resblock(x, filters, kernel_size=(3, 3), activation='relu', padding='same'):\n",
    "    conv1 = Conv2D(filters, kernel_size, activation=activation, padding=padding)(x)\n",
    "    conv2 = Conv2D(filters, kernel_size, activation=None, padding=padding)(conv1)\n",
    "    if x.shape[-1] != conv2.shape[-1]:\n",
    "        x = Conv2D(filters, (1, 1), padding='same')(x)  # Adjust the number of filters\n",
    "    add = tf.keras.layers.add([x, conv2])\n",
    "    out = tf.keras.layers.Activation(activation)(add)\n",
    "    return out"
   ]
  },
  {
   "cell_type": "code",
   "execution_count": 24,
   "metadata": {},
   "outputs": [],
   "source": [
    "if __name__ == \"__main__\":\n",
    "    model = resunet()\n",
    "    model.save('resunet.keras')\n"
   ]
  }
 ],
 "metadata": {
  "kernelspec": {
   "display_name": "Python 3",
   "language": "python",
   "name": "python3"
  },
  "language_info": {
   "codemirror_mode": {
    "name": "ipython",
    "version": 3
   },
   "file_extension": ".py",
   "mimetype": "text/x-python",
   "name": "python",
   "nbconvert_exporter": "python",
   "pygments_lexer": "ipython3",
   "version": "3.9.13"
  }
 },
 "nbformat": 4,
 "nbformat_minor": 2
}
