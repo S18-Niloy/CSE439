{
 "cells": [
  {
   "cell_type": "markdown",
   "metadata": {},
   "source": [
    "This code defines a ResNet50 architecture using TensorFlow's Keras API. ResNet50 is a convolutional neural network model that consists of 50 layers, known for its effectiveness in image classification tasks.\n",
    "\n",
    "Here's a breakdown of the code:\n",
    "\n",
    "1. **Imports**: The code imports necessary modules from TensorFlow, including `tf` for TensorFlow itself and specific modules like `Model` and various layers from `tensorflow.keras.models`.\n",
    "\n",
    "2. **Identity Block Function**: `identity_block` function defines a block in the ResNet architecture where the input tensor is passed through a series of convolutional layers, with the addition of the original input tensor to the final output. This function is used for residual connections within the blocks.\n",
    "\n",
    "3. **Convolutional Block Function**: `conv_block` function defines a block similar to `identity_block`, but with a convolutional layer with stride 2 at the beginning. This function is used when the input and output dimensions of the block are different.\n",
    "\n",
    "4. **ResNet50 Function**: `resnet50` function constructs the entire ResNet50 architecture. It starts with an input layer followed by a convolutional layer and max-pooling layer. Then, it builds several convolutional blocks and identity blocks, forming the main body of the network. Finally, it adds a global average pooling layer and a fully connected layer with softmax activation for classification.\n",
    "\n",
    "5. **Model Creation**: The ResNet50 model is created by calling the `resnet50` function.\n",
    "\n",
    "6. **Model Summary**: The summary of the model, showing the layers, output shapes, and number of parameters, is printed out."
   ]
  },
  {
   "cell_type": "code",
   "execution_count": 37,
   "metadata": {},
   "outputs": [],
   "source": [
    "import tensorflow as tf\n",
    "from tensorflow.keras.applications import ResNet50\n",
    "from tensorflow.keras.layers import Conv2D, UpSampling2D, Concatenate, Activation\n",
    "from tensorflow.keras.models import Model"
   ]
  },
  {
   "cell_type": "code",
   "execution_count": 38,
   "metadata": {},
   "outputs": [],
   "source": [
    "def resnet(input_shape, num_classes):\n",
    "    base_model = ResNet50(input_shape=input_shape, include_top=False)\n",
    "\n",
    "    # Encoder\n",
    "    encoder = tf.keras.Model(inputs=base_model.input, outputs=base_model.get_layer('conv4_block6_out').output)\n",
    "\n",
    "    # Decoder\n",
    "    skip_connections = [\"conv3_block4_out\", \"conv2_block3_out\", \"conv1_relu\"]\n",
    "    encoder_output = encoder.output\n",
    "\n",
    "    upconv1 = UpSampling2D()(encoder_output)\n",
    "    skip_connection1 = base_model.get_layer(skip_connections[0]).output\n",
    "    merge1 = Concatenate()([upconv1, skip_connection1])\n",
    "    conv1 = Conv2D(512, (3, 3), padding='same')(merge1)\n",
    "    conv1 = Activation('relu')(conv1)\n",
    "    conv1 = Conv2D(512, (3, 3), padding='same')(conv1)\n",
    "    conv1 = Activation('relu')(conv1)\n",
    "\n",
    "    upconv2 = UpSampling2D()(conv1)\n",
    "    skip_connection2 = base_model.get_layer(skip_connections[1]).output\n",
    "    merge2 = Concatenate()([upconv2, skip_connection2])\n",
    "    conv2 = Conv2D(256, (3, 3), padding='same')(merge2)\n",
    "    conv2 = Activation('relu')(conv2)\n",
    "    conv2 = Conv2D(256, (3, 3), padding='same')(conv2)\n",
    "    conv2 = Activation('relu')(conv2)\n",
    "\n",
    "    upconv3 = UpSampling2D()(conv2)\n",
    "    skip_connection3 = base_model.get_layer(skip_connections[2]).output\n",
    "    merge3 = Concatenate()([upconv3, skip_connection3])\n",
    "    conv3 = Conv2D(128, (3, 3), padding='same')(merge3)\n",
    "    conv3 = Activation('relu')(conv3)\n",
    "    conv3 = Conv2D(128, (3, 3), padding='same')(conv3)\n",
    "    conv3 = Activation('relu')(conv3)\n",
    "\n",
    "    upconv4 = UpSampling2D()(conv3)\n",
    "    conv4 = Conv2D(64, (3, 3), padding='same')(upconv4)\n",
    "    conv4 = Activation('relu')(conv4)\n",
    "    conv4 = Conv2D(64, (3, 3), padding='same')(conv4)\n",
    "    conv4 = Activation('relu')(conv4)\n",
    "\n",
    "    # Output layer\n",
    "    output = Conv2D(num_classes, (1, 1), activation='softmax')(conv4)\n",
    "\n",
    "    model = Model(inputs=base_model.input, outputs=output)\n",
    "    return model"
   ]
  },
  {
   "cell_type": "code",
   "execution_count": 39,
   "metadata": {},
   "outputs": [],
   "source": [
    "if __name__ == \"__main__\":\n",
    "    input_shape = (256, 256, 3)\n",
    "    num_classes = 2\n",
    "    model = resnet(input_shape, num_classes)\n",
    "    model.save('resnet.keras')"
   ]
  }
 ],
 "metadata": {
  "kernelspec": {
   "display_name": "Python 3",
   "language": "python",
   "name": "python3"
  },
  "language_info": {
   "codemirror_mode": {
    "name": "ipython",
    "version": 3
   },
   "file_extension": ".py",
   "mimetype": "text/x-python",
   "name": "python",
   "nbconvert_exporter": "python",
   "pygments_lexer": "ipython3",
   "version": "3.9.13"
  }
 },
 "nbformat": 4,
 "nbformat_minor": 2
}
