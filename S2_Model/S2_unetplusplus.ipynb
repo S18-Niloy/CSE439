{
 "cells": [
  {
   "cell_type": "markdown",
   "metadata": {},
   "source": [
    "This code defines a U-Net++ model using TensorFlow and Keras. U-Net++ is an extension of the U-Net architecture commonly used for semantic segmentation tasks, such as image segmentation.\n",
    "\n",
    "Here's a breakdown of what the code does:\n",
    "\n",
    "1. **Import Libraries**: The code imports TensorFlow and necessary modules from Keras for building the neural network model.\n",
    "\n",
    "2. **Define U-Net++ Model Function**: The `unet_plusplus` function defines the architecture of the U-Net++ model. It takes `input_shape` and `num_classes` as parameters, where `input_shape` is the shape of the input images (default is 256x256x3) and `num_classes` is the number of output classes (default is 6).\n",
    "\n",
    "3. **Contracting Path**: The contracting path consists of convolutional and max-pooling layers to extract features at different scales. Each convolutional block is composed of two convolutional layers followed by max-pooling to reduce spatial dimensions.\n",
    "\n",
    "4. **Expansive Path**: The expansive path consists of transpose convolutional layers (also known as deconvolution or upsampling) followed by concatenation with feature maps from the contracting path and convolutional layers to refine the segmentation.\n",
    "\n",
    "5. **Output Layer**: The output layer performs a convolution with a kernel size of 1x1 to map the features to the desired number of classes. The activation function used here is softmax, which generates class probabilities for each pixel.\n",
    "\n",
    "6. **Create Model**: The `Model` class from Keras is used to create the final U-Net++ model, specifying the input and output layers.\n",
    "\n",
    "7. **Instantiate Model**: The `unet_plusplus` function is called to instantiate the U-Net++ model.\n",
    "\n",
    "8. **Print Model Summary**: The `summary` method is called on the model to print a summary of its architecture, including the number of parameters in each layer."
   ]
  },
  {
   "cell_type": "code",
   "execution_count": 5,
   "metadata": {},
   "outputs": [],
   "source": [
    "import tensorflow as tf\n",
    "from tensorflow.keras.models import Model\n",
    "from tensorflow.keras.layers import Input, Conv2D, MaxPooling2D, UpSampling2D, concatenate, Conv2DTranspose, Dropout"
   ]
  },
  {
   "cell_type": "code",
   "execution_count": 6,
   "metadata": {},
   "outputs": [],
   "source": [
    "def conv_block(inputs, filters, kernel_size=(3, 3), activation='relu', padding='same'):\n",
    "    conv = Conv2D(filters, kernel_size, activation=activation, padding=padding)(inputs)\n",
    "    conv = Conv2D(filters, kernel_size, activation=activation, padding=padding)(conv)\n",
    "    return conv"
   ]
  },
  {
   "cell_type": "code",
   "execution_count": 7,
   "metadata": {},
   "outputs": [],
   "source": [
    "def unet_plus_plus(input_shape=(256, 256, 3), num_classes=2):\n",
    "    inputs = Input(input_shape)\n",
    "\n",
    "    # Encoder\n",
    "    conv1 = conv_block(inputs, 64)\n",
    "    pool1 = MaxPooling2D(pool_size=(2, 2))(conv1)\n",
    "\n",
    "    conv2 = conv_block(pool1, 128)\n",
    "    pool2 = MaxPooling2D(pool_size=(2, 2))(conv2)\n",
    "\n",
    "    conv3 = conv_block(pool2, 256)\n",
    "    pool3 = MaxPooling2D(pool_size=(2, 2))(conv3)\n",
    "\n",
    "    conv4 = conv_block(pool3, 512)\n",
    "    pool4 = MaxPooling2D(pool_size=(2, 2))(conv4)\n",
    "\n",
    "    conv5 = conv_block(pool4, 1024)\n",
    "\n",
    "    # Decoder\n",
    "    upconv6 = Conv2DTranspose(512, (2, 2), strides=(2, 2), padding='same')(conv5)\n",
    "    skip_connection4 = conv4\n",
    "    upconv6 = concatenate([upconv6, skip_connection4], axis=-1)\n",
    "    conv6 = conv_block(upconv6, 512)\n",
    "\n",
    "    upconv7 = Conv2DTranspose(256, (2, 2), strides=(2, 2), padding='same')(conv6)\n",
    "    skip_connection3 = conv3\n",
    "    upconv7 = concatenate([upconv7, skip_connection3], axis=-1)\n",
    "    conv7 = conv_block(upconv7, 256)\n",
    "\n",
    "    upconv8 = Conv2DTranspose(128, (2, 2), strides=(2, 2), padding='same')(conv7)\n",
    "    skip_connection2 = conv2\n",
    "    upconv8 = concatenate([upconv8, skip_connection2], axis=-1)\n",
    "    conv8 = conv_block(upconv8, 128)\n",
    "\n",
    "    upconv9 = Conv2DTranspose(64, (2, 2), strides=(2, 2), padding='same')(conv8)\n",
    "    skip_connection1 = conv1\n",
    "    upconv9 = concatenate([upconv9, skip_connection1], axis=-1)\n",
    "    conv9 = conv_block(upconv9, 64)\n",
    "\n",
    "    outputs = Conv2D(num_classes, (1, 1), activation='softmax')(conv9)\n",
    "\n",
    "    model = Model(inputs=[inputs], outputs=[outputs])\n",
    "    return model"
   ]
  },
  {
   "cell_type": "code",
   "execution_count": 8,
   "metadata": {},
   "outputs": [],
   "source": [
    "# Create and save the UNet++ model\n",
    "model = unet_plus_plus()\n",
    "model.save('unet_plusplus.keras')"
   ]
  }
 ],
 "metadata": {
  "kernelspec": {
   "display_name": "Python 3",
   "language": "python",
   "name": "python3"
  },
  "language_info": {
   "codemirror_mode": {
    "name": "ipython",
    "version": 3
   },
   "file_extension": ".py",
   "mimetype": "text/x-python",
   "name": "python",
   "nbconvert_exporter": "python",
   "pygments_lexer": "ipython3",
   "version": "3.9.13"
  }
 },
 "nbformat": 4,
 "nbformat_minor": 2
}
