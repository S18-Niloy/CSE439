{
 "cells": [
  {
   "cell_type": "markdown",
   "metadata": {},
   "source": [
    "This code defines a U-Net++ model using TensorFlow and Keras. U-Net++ is an extension of the U-Net architecture commonly used for semantic segmentation tasks, such as image segmentation.\n",
    "\n",
    "Here's a breakdown of what the code does:\n",
    "\n",
    "1. **Import Libraries**: The code imports TensorFlow and necessary modules from Keras for building the neural network model.\n",
    "\n",
    "2. **Define U-Net++ Model Function**: The `unet_plusplus` function defines the architecture of the U-Net++ model. It takes `input_shape` and `num_classes` as parameters, where `input_shape` is the shape of the input images (default is 256x256x3) and `num_classes` is the number of output classes (default is 6).\n",
    "\n",
    "3. **Contracting Path**: The contracting path consists of convolutional and max-pooling layers to extract features at different scales. Each convolutional block is composed of two convolutional layers followed by max-pooling to reduce spatial dimensions.\n",
    "\n",
    "4. **Expansive Path**: The expansive path consists of transpose convolutional layers (also known as deconvolution or upsampling) followed by concatenation with feature maps from the contracting path and convolutional layers to refine the segmentation.\n",
    "\n",
    "5. **Output Layer**: The output layer performs a convolution with a kernel size of 1x1 to map the features to the desired number of classes. The activation function used here is softmax, which generates class probabilities for each pixel.\n",
    "\n",
    "6. **Create Model**: The `Model` class from Keras is used to create the final U-Net++ model, specifying the input and output layers.\n",
    "\n",
    "7. **Instantiate Model**: The `unet_plusplus` function is called to instantiate the U-Net++ model.\n",
    "\n",
    "8. **Print Model Summary**: The `summary` method is called on the model to print a summary of its architecture, including the number of parameters in each layer."
   ]
  },
  {
   "cell_type": "code",
   "execution_count": 1,
   "metadata": {},
   "outputs": [],
   "source": [
    "import tensorflow as tf\n",
    "from tensorflow.keras.models import Model\n",
    "from tensorflow.keras.layers import Input, Conv2D, MaxPooling2D, Dropout, concatenate, Conv2DTranspose"
   ]
  },
  {
   "cell_type": "code",
   "execution_count": 2,
   "metadata": {},
   "outputs": [],
   "source": [
    "def unet_plusplus(input_shape=(256, 256, 3), num_classes=6):\n",
    "    # Define input layer\n",
    "    inputs = Input(input_shape)\n",
    "    \n",
    "    # Contracting path\n",
    "    conv1 = Conv2D(64, 3, activation='relu', padding='same')(inputs)\n",
    "    conv1 = Conv2D(64, 3, activation='relu', padding='same')(conv1)\n",
    "    pool1 = MaxPooling2D(pool_size=(2, 2))(conv1)\n",
    "\n",
    "    conv2 = Conv2D(128, 3, activation='relu', padding='same')(pool1)\n",
    "    conv2 = Conv2D(128, 3, activation='relu', padding='same')(conv2)\n",
    "    pool2 = MaxPooling2D(pool_size=(2, 2))(conv2)\n",
    "\n",
    "    conv3 = Conv2D(256, 3, activation='relu', padding='same')(pool2)\n",
    "    conv3 = Conv2D(256, 3, activation='relu', padding='same')(conv3)\n",
    "    pool3 = MaxPooling2D(pool_size=(2, 2))(conv3)\n",
    "\n",
    "    conv4 = Conv2D(512, 3, activation='relu', padding='same')(pool3)\n",
    "    conv4 = Conv2D(512, 3, activation='relu', padding='same')(conv4)\n",
    "    drop4 = Dropout(0.5)(conv4)\n",
    "    pool4 = MaxPooling2D(pool_size=(2, 2))(drop4)\n",
    "\n",
    "    conv5 = Conv2D(1024, 3, activation='relu', padding='same')(pool4)\n",
    "    conv5 = Conv2D(1024, 3, activation='relu', padding='same')(conv5)\n",
    "    drop5 = Dropout(0.5)(conv5)\n",
    "\n",
    "    # Expansive path\n",
    "    up6 = Conv2DTranspose(512, 2, strides=(2, 2), padding='same')(drop5)\n",
    "    merge6 = concatenate([drop4, up6], axis=3)\n",
    "    conv6 = Conv2D(512, 3, activation='relu', padding='same')(merge6)\n",
    "    conv6 = Conv2D(512, 3, activation='relu', padding='same')(conv6)\n",
    "\n",
    "    up7 = Conv2DTranspose(256, 2, strides=(2, 2), padding='same')(conv6)\n",
    "    merge7 = concatenate([conv3, up7], axis=3)\n",
    "    conv7 = Conv2D(256, 3, activation='relu', padding='same')(merge7)\n",
    "    conv7 = Conv2D(256, 3, activation='relu', padding='same')(conv7)\n",
    "\n",
    "    up8 = Conv2DTranspose(128, 2, strides=(2, 2), padding='same')(conv7)\n",
    "    merge8 = concatenate([conv2, up8], axis=3)\n",
    "    conv8 = Conv2D(128, 3, activation='relu', padding='same')(merge8)\n",
    "    conv8 = Conv2D(128, 3, activation='relu', padding='same')(conv8)\n",
    "\n",
    "    up9 = Conv2DTranspose(64, 2, strides=(2, 2), padding='same')(conv8)\n",
    "    merge9 = concatenate([conv1, up9], axis=3)\n",
    "    conv9 = Conv2D(64, 3, activation='relu', padding='same')(merge9)\n",
    "    conv9 = Conv2D(64, 3, activation='relu', padding='same')(conv9)\n",
    "    \n",
    "    conv9 = Conv2D(num_classes, 1, activation='softmax', padding='same')(conv9)\n",
    "\n",
    "    # Create model\n",
    "    model = Model(inputs=inputs, outputs=conv9)\n",
    "    return model"
   ]
  },
  {
   "cell_type": "code",
   "execution_count": 3,
   "metadata": {},
   "outputs": [],
   "source": [
    "# Create and save the UNet++ model\n",
    "model = unet_plusplus()\n",
    "model.save('unet_plusplus.keras')"
   ]
  }
 ],
 "metadata": {
  "kernelspec": {
   "display_name": "Python 3",
   "language": "python",
   "name": "python3"
  },
  "language_info": {
   "codemirror_mode": {
    "name": "ipython",
    "version": 3
   },
   "file_extension": ".py",
   "mimetype": "text/x-python",
   "name": "python",
   "nbconvert_exporter": "python",
   "pygments_lexer": "ipython3",
   "version": "3.11.9"
  }
 },
 "nbformat": 4,
 "nbformat_minor": 2
}
