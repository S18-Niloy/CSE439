{
 "cells": [
  {
   "cell_type": "markdown",
   "metadata": {},
   "source": [
    "This code defines a U-Net model using TensorFlow and Keras. U-Net is a popular architecture for image segmentation tasks. Here's a breakdown of what each part of the code does:\n",
    "\n",
    "1. **Importing Libraries**: The code starts by importing necessary libraries from TensorFlow. This includes importing the TensorFlow library itself (`tf`) and specific modules like `Model`, `Input`, `Conv2D`, `MaxPooling2D`, `Dropout`, `UpSampling2D`, and `concatenate` from `tensorflow.keras.models` and `tensorflow.keras.layers`.\n",
    "\n",
    "2. **Defining the U-Net Function**: The `unet` function is defined to create the U-Net model. It takes two optional arguments: `input_shape` (defaulting to `(256, 256, 3)`) and `num_classes` (defaulting to `6`). The function constructs the U-Net model architecture in two main parts: the contracting path and the expansive path.\n",
    "\n",
    "3. **Contracting Path**: The contracting path consists of several convolutional blocks followed by max-pooling layers. Each convolutional block consists of two convolutional layers with ReLU activation, followed by a max-pooling layer. The number of filters increases with each block, starting from 64 and doubling at each step until reaching 1024.\n",
    "\n",
    "4. **Expansive Path**: The expansive path consists of upsampling layers followed by convolutional blocks. Each block consists of two convolutional layers with ReLU activation. The number of filters decreases with each block, following the same pattern as the contracting path.\n",
    "\n",
    "5. **Skip Connections**: Skip connections are implemented by concatenating feature maps from the contracting path with feature maps from the corresponding upsampling layers in the expansive path.\n",
    "\n",
    "6. **Output Layer**: The output layer consists of a convolutional layer with softmax activation, producing a probability distribution over the classes. The number of filters in this layer is equal to the number of classes.\n",
    "\n",
    "7. **Model Creation**: Finally, the `Model` class from Keras is used to create the U-Net model, with `inputs` as the input layer and `conv9` as the output layer.\n",
    "\n",
    "8. **Model Summary**: The `summary` method is called on the model to print a summary of its architecture, including the number of parameters in each layer."
   ]
  },
  {
   "cell_type": "code",
   "execution_count": 2,
   "metadata": {},
   "outputs": [],
   "source": [
    "from tensorflow.keras.layers import Input, Conv2D, MaxPooling2D, UpSampling2D, concatenate\n",
    "from tensorflow.keras.models import Model"
   ]
  },
  {
   "cell_type": "code",
   "execution_count": 3,
   "metadata": {},
   "outputs": [],
   "source": [
    "def unet(input_shape=(256, 256, 3)):\n",
    "    inputs = Input(input_shape)\n",
    "\n",
    "    # Encoder\n",
    "    conv1 = Conv2D(64, 3, activation='relu', padding='same')(inputs)\n",
    "    conv1 = Conv2D(64, 3, activation='relu', padding='same')(conv1)\n",
    "    pool1 = MaxPooling2D(pool_size=(2, 2))(conv1)\n",
    "\n",
    "    conv2 = Conv2D(128, 3, activation='relu', padding='same')(pool1)\n",
    "    conv2 = Conv2D(128, 3, activation='relu', padding='same')(conv2)\n",
    "    pool2 = MaxPooling2D(pool_size=(2, 2))(conv2)\n",
    "\n",
    "    conv3 = Conv2D(256, 3, activation='relu', padding='same')(pool2)\n",
    "    conv3 = Conv2D(256, 3, activation='relu', padding='same')(conv3)\n",
    "    pool3 = MaxPooling2D(pool_size=(2, 2))(conv3)\n",
    "\n",
    "    # Decoder\n",
    "    up4 = concatenate([UpSampling2D(size=(2, 2))(conv3), conv2], axis=-1)\n",
    "    conv4 = Conv2D(128, 3, activation='relu', padding='same')(up4)\n",
    "    conv4 = Conv2D(128, 3, activation='relu', padding='same')(conv4)\n",
    "\n",
    "    up5 = concatenate([UpSampling2D(size=(2, 2))(conv4), conv1], axis=-1)\n",
    "    conv5 = Conv2D(64, 3, activation='relu', padding='same')(up5)\n",
    "    conv5 = Conv2D(64, 3, activation='relu', padding='same')(conv5)\n",
    "\n",
    "    conv6 = Conv2D(1, 1, activation='sigmoid')(conv5)\n",
    "\n",
    "    model = Model(inputs=inputs, outputs=conv6)\n",
    "    return model"
   ]
  },
  {
   "cell_type": "code",
   "execution_count": 4,
   "metadata": {},
   "outputs": [],
   "source": [
    "# Create and save the UNet model\n",
    "model = unet()\n",
    "model.save('unet_model.keras')"
   ]
  }
 ],
 "metadata": {
  "kernelspec": {
   "display_name": "Python 3",
   "language": "python",
   "name": "python3"
  },
  "language_info": {
   "codemirror_mode": {
    "name": "ipython",
    "version": 3
   },
   "file_extension": ".py",
   "mimetype": "text/x-python",
   "name": "python",
   "nbconvert_exporter": "python",
   "pygments_lexer": "ipython3",
   "version": "3.9.13"
  }
 },
 "nbformat": 4,
 "nbformat_minor": 2
}
