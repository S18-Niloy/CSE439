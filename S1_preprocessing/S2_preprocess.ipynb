{
 "cells": [
  {
   "cell_type": "code",
   "execution_count": 8,
   "metadata": {},
   "outputs": [],
   "source": [
    "import cv2\n",
    "import numpy as np\n",
    "import os"
   ]
  },
  {
   "cell_type": "code",
   "execution_count": 9,
   "metadata": {},
   "outputs": [],
   "source": [
    "def preprocess_images(root_folder):\n",
    "    preprocessed_images = []\n",
    "    for tile_folder in os.listdir(root_folder):\n",
    "        tile_images_folder = os.path.join(root_folder, tile_folder, 'images')\n",
    "        if os.path.isdir(tile_images_folder):\n",
    "            for image_name in os.listdir(tile_images_folder):\n",
    "                if image_name.endswith(\".jpg\"):\n",
    "                    image_path = os.path.join(tile_images_folder, image_name)\n",
    "                    image = cv2.imread(image_path)\n",
    "                    image = cv2.resize(image, (256, 256))  # Resize image to 256x256\n",
    "                    image = image.astype(np.float32) / 255.0  # Normalize pixel values between 0 and 1\n",
    "                    preprocessed_images.append(image)\n",
    "    return np.array(preprocessed_images)"
   ]
  },
  {
   "cell_type": "code",
   "execution_count": 10,
   "metadata": {},
   "outputs": [],
   "source": [
    "def preprocess_masks(root_folder, vegetation_hex_code):\n",
    "    preprocessed_masks = []\n",
    "    for tile_folder in os.listdir(root_folder):\n",
    "        tile_masks_folder = os.path.join(root_folder, tile_folder, 'masks')\n",
    "        if os.path.isdir(tile_masks_folder):\n",
    "            for mask_name in os.listdir(tile_masks_folder):\n",
    "                if mask_name.endswith(\".png\"):\n",
    "                    mask_path = os.path.join(tile_masks_folder, mask_name)\n",
    "                    mask = cv2.imread(mask_path, cv2.IMREAD_COLOR)\n",
    "                    mask = cv2.resize(mask, (256, 256))  # Resize mask to 256x256\n",
    "                    vegetation_mask = (mask == vegetation_hex_code).all(axis=2).astype(np.uint8)\n",
    "                    preprocessed_masks.append(vegetation_mask)\n",
    "    return np.array(preprocessed_masks)"
   ]
  },
  {
   "cell_type": "code",
   "execution_count": 11,
   "metadata": {},
   "outputs": [],
   "source": [
    "# Hex code for vegetation: #FEDD3A"
   ]
  },
  {
   "cell_type": "code",
   "execution_count": 12,
   "metadata": {},
   "outputs": [
    {
     "name": "stdout",
     "output_type": "stream",
     "text": [
      "Vegetation Hex Code (RGB): [254 221  58]\n"
     ]
    }
   ],
   "source": [
    "vegetation_hex_code = np.array([0xFE, 0xDD, 0x3A])  # Each component of the RGB color\n",
    "\n",
    "print(\"Vegetation Hex Code (RGB):\", vegetation_hex_code)"
   ]
  },
  {
   "cell_type": "code",
   "execution_count": 13,
   "metadata": {},
   "outputs": [
    {
     "name": "stdout",
     "output_type": "stream",
     "text": [
      "Preprocessed images shape: (72, 256, 256, 3)\n",
      "Preprocessed masks shape: (72, 256, 256)\n"
     ]
    }
   ],
   "source": [
    "if __name__ == \"__main__\":\n",
    "    root_folder = r'path_to_the_Data_folder'\n",
    "    vegetation_hex_code = np.array([254, 221, 58])  # Hex code for vegetation: #FEDD3A\n",
    "\n",
    "    preprocessed_images = preprocess_images(root_folder)\n",
    "    preprocessed_masks = preprocess_masks(root_folder, vegetation_hex_code)\n",
    "\n",
    "    print(\"Preprocessed images shape:\", preprocessed_images.shape)\n",
    "    print(\"Preprocessed masks shape:\", preprocessed_masks.shape)"
   ]
  },
  {
   "cell_type": "code",
   "execution_count": 14,
   "metadata": {},
   "outputs": [
    {
     "name": "stdout",
     "output_type": "stream",
     "text": [
      "72\n"
     ]
    }
   ],
   "source": [
    "print(len(preprocessed_images))"
   ]
  },
  {
   "cell_type": "markdown",
   "metadata": {},
   "source": [
    "# Save preprocessed images and masks"
   ]
  },
  {
   "cell_type": "code",
   "execution_count": 15,
   "metadata": {},
   "outputs": [],
   "source": [
    "np.save('preprocessed_images.npy', preprocessed_images)\n",
    "np.save('preprocessed_masks.npy', preprocessed_masks)"
   ]
  }
 ],
 "metadata": {
  "kernelspec": {
   "display_name": "Python 3",
   "language": "python",
   "name": "python3"
  },
  "language_info": {
   "codemirror_mode": {
    "name": "ipython",
    "version": 3
   },
   "file_extension": ".py",
   "mimetype": "text/x-python",
   "name": "python",
   "nbconvert_exporter": "python",
   "pygments_lexer": "ipython3",
   "version": "3.11.9"
  }
 },
 "nbformat": 4,
 "nbformat_minor": 2
}
